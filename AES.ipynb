{
  "nbformat": 4,
  "nbformat_minor": 0,
  "metadata": {
    "colab": {
      "provenance": [],
      "toc_visible": true
    },
    "kernelspec": {
      "name": "python3",
      "display_name": "Python 3"
    },
    "language_info": {
      "name": "python"
    }
  },
  "cells": [
    {
      "cell_type": "markdown",
      "source": [
        "#Algoritmo AES\n",
        "\n",
        "---\n",
        "\n",
        "Escuela Superior de Fisico y Matematicas\n",
        "\n",
        "Licenciatura En Matematica Algoritmica\n",
        "\n",
        "**Criptología**\n",
        "\n",
        "Profesor: Gamaliel Yafte Tellez Sanchez\n",
        "\n",
        "Alumno: Victor Hugo Martinez Huicochea"
      ],
      "metadata": {
        "id": "aIbEhESkuR_w"
      }
    },
    {
      "cell_type": "markdown",
      "source": [
        "#Importamos Librerias"
      ],
      "metadata": {
        "id": "tFACv0oSadyT"
      }
    },
    {
      "cell_type": "code",
      "source": [
        "import numpy as np\n",
        "import copy"
      ],
      "metadata": {
        "id": "LBD40pL5zMFx"
      },
      "execution_count": null,
      "outputs": []
    },
    {
      "cell_type": "markdown",
      "source": [
        "#Funciones para AES"
      ],
      "metadata": {
        "id": "pB2WtoPkU2CJ"
      }
    },
    {
      "cell_type": "markdown",
      "source": [
        "## Gauss-Jordan para $Z_{256}$ (Programa #1 y #2)"
      ],
      "metadata": {
        "id": "g878kIf0U7QX"
      }
    },
    {
      "cell_type": "code",
      "source": [
        "def Gauss(B):\n",
        "  A=np.array(B,dtype=int)\n",
        "  AI=np.identity(A.shape[0],dtype=int)\n",
        "  for i in range(A.shape[0]):\n",
        "    #Caso 0 en la columna\n",
        "    if A[i][i]==0:\n",
        "      #Buscar en las siguientes\n",
        "      for j in range(i,A.shape[0]):\n",
        "        #Cuando se halle\n",
        "        if A[j][i]!=0:\n",
        "          #cambiar filas en inversa y en original\n",
        "          A[[i,j]]=A[[j,i]]\n",
        "          AI[[i,j]]=AI[[j,i]]\n",
        "          break\n",
        "        #Caso contrario: No invertible return\n",
        "        if j==A.shape[0]-1:\n",
        "          print(\"No es invertible\")\n",
        "          return\n",
        "\n",
        "    #Obtenemos la inversa del pivote\n",
        "    inv=inversa(A[i][i])\n",
        "\n",
        "    #Multiplicamos para hacer el pivote 1\n",
        "    A[i]=mulescalar(A[i],inv)\n",
        "    AI[i]=mulescalar(AI[i],inv)\n",
        "\n",
        "    #Hacer ceros debajo\n",
        "    for j in range(i+1,A.shape[0]):\n",
        "      AI[j]=sumaesc(AI[j],mulescalar(AI[i],A[j][i]))\n",
        "      A[j]=sumaesc(A[j],mulescalar(A[i],A[j][i]))\n",
        "\n",
        "    #Hacer ceros Arriba\n",
        "    for j in range(i-1,-1,-1):\n",
        "      AI[j]=sumaesc(AI[j],mulescalar(AI[i],A[j][i]))\n",
        "      A[j]=sumaesc(A[j],mulescalar(A[i],A[j][i]))\n",
        "\n",
        "  return AI"
      ],
      "metadata": {
        "id": "Pwhc6_-6yf4Z"
      },
      "execution_count": null,
      "outputs": []
    },
    {
      "cell_type": "markdown",
      "source": [
        "## Funcion Generadora de LLaves (Programa #3)"
      ],
      "metadata": {
        "id": "LTl_TYwPWccf"
      }
    },
    {
      "cell_type": "code",
      "source": [
        "#Genera las 10 llaves del AES\n",
        "def GenKey(A):\n",
        "  Aux=copy.deepcopy(A)\n",
        "  K=[]\n",
        "  for i in range(10):\n",
        "    K.append(KeyG(Aux,i))\n",
        "    Aux=copy.deepcopy(K[i])\n",
        "  return K\n",
        "\n",
        "#Genera llaves\n",
        "def KeyG(A,it):\n",
        "  #Dividimos en K1 K2 K3 K4\n",
        "  K=[A[0]>>32,A[0]&4294967295,A[1]>>32,A[1]&4294967295]\n",
        "  #Trasladamos a K4 K1 K2 K3\n",
        "  K = K[-1:] + K[:-1]\n",
        "\n",
        "  #Despues de entrar a S-box\n",
        "  Kaux=[0,0,0,0]\n",
        "  #Donde guardaremos la llave\n",
        "  ki=[0,0]\n",
        "\n",
        "  #Para cada Ki\n",
        "  for i in range(len(K)):\n",
        "    #Dividimos sus 32 bits en 4 Bytes\n",
        "    for j in range(4):\n",
        "      kj=(K[i]>>(8*j))&255\n",
        "      #Cada Byte se manda a la Sbox\n",
        "      #kj=Sbox(kj)\n",
        "      kj=LlBox(kj)\n",
        "\n",
        "      #Se Agrega a la llave\n",
        "      Kaux[i]=Kaux[i]^(kj<<(8*j))\n",
        "  #Tenemos T1 T2 T3 T4\n",
        "  #Procedemos a sacar su Ap para XOR T1\n",
        "  Ap=algdiv(2**it)\n",
        "  Kaux[0]=Kaux[0]^Ap\n",
        "\n",
        "  #Juntamos y enviamos\n",
        "  ki[0]=(Kaux[0]<<32)^Kaux[1]\n",
        "  ki[1]=(Kaux[2]<<32)^Kaux[3]\n",
        "  return ki\n",
        "\n",
        "def LlBox(a):\n",
        "  return LBox[a]"
      ],
      "metadata": {
        "id": "ThTXfhL6Bbl_"
      },
      "execution_count": null,
      "outputs": []
    },
    {
      "cell_type": "markdown",
      "source": [
        "## S-Box y su inversa para AES (Programa #4)"
      ],
      "metadata": {
        "id": "PCM6N3UZVj4c"
      }
    },
    {
      "cell_type": "code",
      "source": [
        "def Sbox(a):\n",
        "  ai=inversa(a)\n",
        "  #Convertimos a binario\n",
        "  ai=np.array(binario(ai)) [np.newaxis]\n",
        "  #Volvemos fila a Columna\n",
        "  ai=np.transpose(ai)\n",
        "\n",
        "  #Multiplicamos por As en Z_2\n",
        "  ai=As@ai\n",
        "  #Como es XOR, mod 2 para convertir a binario\n",
        "  for i in range(len(ai)):\n",
        "    for j in range(len(ai[0])):\n",
        "      ai[i][j]=ai[i][j]%2\n",
        "\n",
        "  #Sumamos el vector Bs en Z_2\n",
        "  ai=ai+bs\n",
        "  #como fue XOR, hacemos mod 2 para hacer 0 los pares\n",
        "  for i in range(len(ai)):\n",
        "    for j in range(len(ai[0])):\n",
        "      ai[i][j]=ai[i][j]%2\n",
        "\n",
        "  #Volvermos de Columna a Fila\n",
        "  ai=ai.T[0]\n",
        "  return int(conversor(ai[::-1]))\n",
        "\n",
        "def SboxINV(a):\n",
        "  #Convertimos a binario\n",
        "  ai=binario(a)\n",
        "  #Volvemos de Fila a Columna\n",
        "  ai=np.array(ai[::-1]) [np.newaxis]\n",
        "  ai=np.transpose(ai)\n",
        "\n",
        "  #Restamos el vector Bs en Z_2 (Como es Z_2 entonces la suma es el inverso tambien)\n",
        "  ai=ai+bs\n",
        "  #como fue XOR, hacemos mod 2 para hacer 0 los pares\n",
        "  for i in range(len(ai)):\n",
        "    for j in range(len(ai[0])):\n",
        "      ai[i][j]=ai[i][j]%2\n",
        "\n",
        "  #Multiplicamos por el inverso de As en Z_2\n",
        "  ai=Asi@ai\n",
        "  #Como es XOR, mod 2 para convertir a binario\n",
        "  for i in range(len(ai)):\n",
        "    for j in range(len(ai[0])):\n",
        "      ai[i][j]=ai[i][j]%2\n",
        "\n",
        "  #De Columnas a Filas\n",
        "  ai=ai.T[0]\n",
        "  #Convertimos a decimal\n",
        "  ai=int(conversor(ai))\n",
        "  #retornamos el inverso\n",
        "  return int(inversa(ai))\n"
      ],
      "metadata": {
        "id": "79vYYOuuVVWt"
      },
      "execution_count": null,
      "outputs": []
    },
    {
      "cell_type": "markdown",
      "source": [
        "##Funciones auxiliares"
      ],
      "metadata": {
        "id": "njoOCbV_VM5W"
      }
    },
    {
      "cell_type": "code",
      "source": [
        "#Multiplica matrices en Z256\n",
        "def MultMat(A,B):\n",
        "  C=np.zeros((len(A),len(B[0])),dtype=int)\n",
        "  for i in range(len(A)):\n",
        "    for j in range(len(B[0])):\n",
        "      for k in range(len(A[0])):\n",
        "        C[i][j]=suma(C[i][j],multiplicacion(A[i][k],B[k][j]))\n",
        "  return C\n",
        "\n",
        "#Multiplicacion en Z256\n",
        "def multiplicacion(a,b):\n",
        "  c=0\n",
        "  for i in range(7,-1,-1):\n",
        "    if(b&(2**i)):\n",
        "      c=(a<<i)^c\n",
        "  if(c>255):\n",
        "    c=algdiv(c)\n",
        "  return c\n",
        "\n",
        "#Multiplicacion por escalar en Z256 (a es un vector y b un escalar)\n",
        "def mulescalar(a,b):\n",
        "  c=copy.deepcopy(a)\n",
        "  for i in range(len(a)):\n",
        "    c[i]=multiplicacion(a[i],b)\n",
        "  return c\n",
        "\n",
        "#Algoritmo de la division para irreducible\n",
        "def algdiv(g):\n",
        "  irr=283\n",
        "  while(g>255):\n",
        "    i=0\n",
        "    while(g>=2**i):\n",
        "      i+=1\n",
        "    #grado i-1\n",
        "    g=g^(irr<<((i-1)-8))\n",
        "  return g\n",
        "\n",
        "#Encuentra la inversa en Z256\n",
        "def inversa(a):\n",
        "  return Inv[a]\n",
        "\n",
        "#Suma de vectores\n",
        "def sumaesc(a,b):\n",
        "  c=copy.deepcopy(a)\n",
        "  for i in range(len(a)):\n",
        "    c[i]=suma(a[i],b[i])\n",
        "  return c\n",
        "\n",
        "#Suma en Z256\n",
        "def suma(a,b):\n",
        "  return a^b\n",
        "\n",
        "#convierte decimal a binario\n",
        "def binario(a):\n",
        "  bin=[]\n",
        "  if a==0:\n",
        "    return [0,0,0,0,0,0,0,0]\n",
        "  while(a!=0):\n",
        "    bin.append(a%2)\n",
        "    a=int(a/2)\n",
        "  #Mientras no sea un byte\n",
        "  while(len(bin)<8):\n",
        "    bin.append(0)\n",
        "  bin=bin[::-1]\n",
        "  return bin\n",
        "\n",
        "#Convierte binario a decimal\n",
        "def conversor(f):\n",
        "  sum=0\n",
        "  for i in range(0,len(f)):\n",
        "    sum+=f[len(f)-i-1]*2**(i)\n",
        "  return sum"
      ],
      "metadata": {
        "id": "-nB_ZqaW-zzY"
      },
      "execution_count": null,
      "outputs": []
    },
    {
      "cell_type": "markdown",
      "source": [
        "#Guardamos Elementos importantes\n"
      ],
      "metadata": {
        "id": "66on83SXTnUk"
      }
    },
    {
      "cell_type": "markdown",
      "source": [
        "## Variables Clave en S-Box"
      ],
      "metadata": {
        "id": "lQdinR3HTrWn"
      }
    },
    {
      "cell_type": "code",
      "source": [
        "#Tabla de conversion, tomando en total 256 elementos\n",
        "Inv=[0, 1, 141, 246, 203, 82, 123, 209, 232, 79, 41, 192, 176, 225, 229, 199, 116, 180, 170, 75, 153, 43, 96, 95, 88, 63, 253, 204, 255, 64, 238, 178, 58, 110, 90, 241, 85, 77, 168, 201, 193, 10, 152, 21, 48, 68, 162, 194, 44, 69, 146, 108, 243, 57, 102, 66, 242, 53, 32, 111, 119, 187, 89, 25, 29, 254, 55, 103, 45, 49, 245, 105, 167, 100, 171, 19, 84, 37, 233, 9, 237, 92, 5, 202, 76, 36, 135, 191, 24, 62, 34, 240, 81, 236, 97, 23, 22, 94, 175, 211, 73, 166, 54, 67, 244, 71, 145, 223, 51, 147, 33, 59, 121, 183, 151, 133, 16, 181, 186, 60, 182, 112, 208, 6, 161, 250, 129, 130, 131, 126, 127, 128, 150, 115, 190, 86, 155, 158, 149, 217, 247, 2, 185, 164, 222, 106, 50, 109, 216, 138, 132, 114, 42, 20, 159, 136, 249, 220, 137, 154, 251, 124, 46, 195, 143, 184, 101, 72, 38, 200, 18, 74, 206, 231, 210, 98, 12, 224, 31, 239, 17, 117, 120, 113, 165, 142, 118, 61, 189, 188, 134, 87, 11, 40, 47, 163, 218, 212, 228, 15, 169, 39, 83, 4, 27, 252, 172, 230, 122, 7, 174, 99, 197, 219, 226, 234, 148, 139, 196, 213, 157, 248, 144, 107, 177, 13, 214, 235, 198, 14, 207, 173, 8, 78, 215, 227, 93, 80, 30, 179, 91, 35, 56, 52, 104, 70, 3, 140, 221, 156, 125, 160, 205, 26, 65, 28]\n",
        "#Bs del S-box\n",
        "bs=np.array([[1],\n",
        "     [1],\n",
        "     [0],\n",
        "     [0],\n",
        "     [1],\n",
        "     [1],\n",
        "     [0],\n",
        "     [0]])\n",
        "#As del S-box\n",
        "As=np.array([[1,1,1,0,0,0,1,1],\n",
        "              [1,1,1,1,0,0,0,1],\n",
        "              [1,1,1,1,1,0,0,0],\n",
        "              [0,1,1,1,1,1,0,0],\n",
        "              [0,0,1,1,1,1,1,0],\n",
        "              [0,0,0,1,1,1,1,1],\n",
        "              [1,0,0,0,1,1,1,1],\n",
        "              [1,1,0,0,0,1,1,1]])\n",
        "#Inversa de As para inversa de Sbox (Como As son 0 y 1, entonces el G_J servira igual [Inverso de 1 es el mismo y se restan en 0 y 1])\n",
        "Asi=Gauss(As)"
      ],
      "metadata": {
        "id": "NaWhVa6VhSWv"
      },
      "execution_count": null,
      "outputs": []
    },
    {
      "cell_type": "markdown",
      "source": [
        "## Variables Clave en AES General"
      ],
      "metadata": {
        "id": "zkVDe-RJTxrt"
      }
    },
    {
      "cell_type": "code",
      "source": [
        "#Creamos Llaves\n",
        "LLave=[18446744073709551615,18446744073709551615]\n",
        "Llave=[9924425342322504201,232422311231232]\n",
        "Llave=[454761243,454761243]\n",
        "Llave=[1953184666628070171,1953184666628070171]\n",
        "#Lbox\n",
        "LBox=[42, 15, 100, 241, 204, 113, 107, 245, 123, 119, 214, 62, 117, 70, 109, 211, 85, 152, 203, 161, 30, 124, 158, 32, 186, 126, 37, 49, 146, 178, 136, 121, 78, 13, 95, 2, 131, 99, 236, 97, 89, 230, 195, 206, 90, 166, 133, 22, 16, 147, 243, 91, 192, 180, 38, 128, 35, 249, 156, 145, 217, 24, 191, 83, 103, 187, 76, 201, 74, 77, 65, 40, 144, 18, 108, 114, 34, 149, 106, 224, 207, 112, 51, 160, 45, 182, 101, 209, 127, 56, 185, 239, 233, 190, 202, 52, 212, 174, 63, 221, 197, 29, 157, 132, 72, 198, 47, 36, 9, 255, 205, 254, 172, 134, 17, 10, 153, 216, 181, 199, 148, 247, 54, 234, 240, 210, 175, 23, 71, 244, 105, 170, 5, 6, 61, 200, 12, 179, 98, 27, 142, 229, 68, 0, 196, 227, 218, 232, 213, 20, 159, 111, 116, 31, 220, 162, 3, 94, 25, 57, 41, 138, 58, 118, 96, 11, 39, 21, 50, 93, 129, 14, 102, 150, 169, 67, 1, 176, 235, 188, 80, 122, 154, 19, 151, 43, 251, 69, 242, 208, 82, 194, 223, 143, 173, 110, 246, 86, 171, 46, 177, 237, 48, 141, 4, 250, 115, 248, 253, 183, 167, 189, 33, 84, 219, 26, 238, 60, 222, 225, 55, 81, 120, 184, 165, 8, 44, 164, 168, 125, 73, 87, 137, 66, 139, 7, 92, 135, 64, 228, 104, 252, 75, 226, 155, 28, 59, 130, 163, 193, 53, 140, 231, 88, 79, 215]"
      ],
      "metadata": {
        "id": "gUuPojkoYJcl"
      },
      "execution_count": null,
      "outputs": []
    },
    {
      "cell_type": "code",
      "execution_count": null,
      "metadata": {
        "id": "FqrBbtayv0BT",
        "colab": {
          "base_uri": "https://localhost:8080/"
        },
        "outputId": "084666d4-cb4e-4542-bb1e-e76893e1a747"
      },
      "outputs": [
        {
          "output_type": "stream",
          "name": "stdout",
          "text": [
            "Matriz A:\n",
            "  [[ 2  7  3 13]\n",
            " [13  7  1  9]\n",
            " [15  6  5 11]\n",
            " [13  3  3 13]] \n",
            " Matriz AI:\n",
            " [[245 119 185   8]\n",
            " [206 116 228 213]\n",
            " [209  97  19 196]\n",
            " [ 43   2  96 124]]\n",
            "Multiplicado da:\n",
            " [[1 0 0 0]\n",
            " [0 1 0 0]\n",
            " [0 0 1 0]\n",
            " [0 0 0 1]]\n"
          ]
        }
      ],
      "source": [
        "#Al que se le encontrara su inversa\n",
        "A=[[1,4,3,3],\n",
        "   [2,0,1,3],\n",
        "   [2,3,2,1],\n",
        "   [2,3,5,6]]\n",
        "A=[[2,7,3,13],\n",
        "   [13,7,1,9],\n",
        "   [15,6,5,11],\n",
        "   [13,3,3,13]]\n",
        "\n",
        "AI=Gauss(A)\n",
        "##Comprobacion de Que AI es inversa de A\n",
        "print(\"Matriz A:\\n \",np.array(A),\"\\n Matriz AI:\\n\",AI)\n",
        "print(\"Multiplicado da:\\n\",MultMat(A,AI))"
      ]
    },
    {
      "cell_type": "markdown",
      "source": [
        "# AES (Programa #5)"
      ],
      "metadata": {
        "id": "1uSlh65nWjHd"
      }
    },
    {
      "cell_type": "code",
      "source": [
        "#Ejemplos usados\n",
        "#M=[18446744073709551615,18446744073709551615]\n",
        "#M=[1953184666628070171,1953184666628070171]\n",
        "#M=[18376798761751380251,18376798761751380251]\n",
        "#M=[133232423432424234,213123123123123213]\n",
        "M=[0,1]\n",
        "#M=[255,256]\n",
        "print(\"Mensaje Original:\",M)\n",
        "\n",
        "#Encriptado\n",
        "#Generamos las llaves\n",
        "GK=GenKey(Llave)\n",
        "for it in range(10):\n",
        "  M4=[]\n",
        "  #Convertimos a M4\n",
        "  for i in range(2):\n",
        "    Maux=[]\n",
        "    for j in range(4):\n",
        "      Maux.append((M[0]>>(8*(4*i+j)))&255)\n",
        "    M4.append(Maux)\n",
        "  for i in range(2):\n",
        "    Maux=[]\n",
        "    for j in range(4):\n",
        "      Maux.append((M[1]>>(8*(4*i+j)))&255)\n",
        "    M4.append(Maux)\n",
        "  M4=np.array(M4,dtype=int)\n",
        "\n",
        "  #Pasamos por sbox\n",
        "  for i in range(4):\n",
        "    for j in range(4):\n",
        "      M4[i][j]=Sbox(M4[i][j])\n",
        "\n",
        "\n",
        "  #Mexcla de filas\n",
        "  M4[1]=np.roll(M4[1],3)\n",
        "  M4[2]=np.roll(M4[2],2)\n",
        "  M4[3]=np.roll(M4[3],1)\n",
        "\n",
        "  #Mezcla de Columnas\n",
        "  M4=MultMat(A,M4)\n",
        "\n",
        "  #Reinvertimos mensaje:\n",
        "  C=[0,0]\n",
        "  for i in range(2):\n",
        "    for j in range(4):\n",
        "      C[0]=C[0]^(int(M4[i][j])<<(8*(4*i+j)))\n",
        "  for i in range(2):\n",
        "    for j in range(4):\n",
        "      C[1]=C[1]^(int(M4[i+2][j])<<(8*(4*i+j)))\n",
        "\n",
        "  #Hacemos XOR con la llave de esta iteracion\n",
        "  ki=GK[it]\n",
        "  C[0]=C[0]^ki[0]\n",
        "  C[1]=C[1]^ki[1]\n",
        "  #Copiamos para siguiente ireracion\n",
        "  M=copy.deepcopy(C)\n",
        "  #print(\"Cifrado de iteracion: \", it, \"Dando resultado:\",C)\n",
        "\n",
        "print(\"Mensaje Cifrado:\",C)"
      ],
      "metadata": {
        "colab": {
          "base_uri": "https://localhost:8080/"
        },
        "id": "xys6Q7zEmCzK",
        "outputId": "f9bb75ff-0bad-4217-e3e4-8381be9f2bbf"
      },
      "execution_count": null,
      "outputs": [
        {
          "output_type": "stream",
          "name": "stdout",
          "text": [
            "Mensaje Original: [0, 1]\n",
            "Mensaje Cifrado: [996156352679900960, 11728750728847474366]\n"
          ]
        }
      ]
    },
    {
      "cell_type": "markdown",
      "source": [
        "#Desencriptado del AES (Programa #6)"
      ],
      "metadata": {
        "id": "mqHbFWReW4c1"
      }
    },
    {
      "cell_type": "code",
      "source": [
        "print(\"Mensaje Cifrado:\",C)\n",
        "\n",
        "#Desencriptado\n",
        "#Generamos llaves\n",
        "GK=GenKey(Llave)\n",
        "for it in range(10):\n",
        "  #Hacemos XOR con la llave de la iteracion correspondiente\n",
        "  ki=GK[9-it]\n",
        "  C[0]=C[0]^ki[0]\n",
        "  C[1]=C[1]^ki[1]\n",
        "\n",
        "  M4=[]\n",
        "  #Convertimos a M4\n",
        "  for i in range(2):\n",
        "    Maux=[]\n",
        "    for j in range(4):\n",
        "      Maux.append((C[0]>>(8*(4*i+j)))&255)\n",
        "    M4.append(Maux)\n",
        "  for i in range(2):\n",
        "    Maux=[]\n",
        "    for j in range(4):\n",
        "      Maux.append((C[1]>>(8*(4*i+j)))&255)\n",
        "    M4.append(Maux)\n",
        "  M4=np.array(M4,dtype=int)\n",
        "\n",
        "  #Multiplicamos por inversa de A\n",
        "  M4=MultMat(AI,M4)\n",
        "\n",
        "  #Regresamos de mezcla de filas\n",
        "  M4[1]=np.roll(M4[1],-3)\n",
        "  M4[2]=np.roll(M4[2],-2)\n",
        "  M4[3]=np.roll(M4[3],-1)\n",
        "\n",
        "  #Pasamos por la inversa de S-Box\n",
        "  for i in range(4):\n",
        "    for j in range(4):\n",
        "      M4[i][j]=SboxINV(M4[i][j])\n",
        "\n",
        "  #Reinvertimos mensaje:\n",
        "  M=[0,0]\n",
        "  for i in range(2):\n",
        "    for j in range(4):\n",
        "      M[0]=M[0]^(int(M4[i][j])<<(8*(4*i+j)))\n",
        "  for i in range(2):\n",
        "    for j in range(4):\n",
        "      M[1]=M[1]^(int(M4[i+2][j])<<(8*(4*i+j)))\n",
        "\n",
        "  #Copiamos para siguiente Iteracion\n",
        "  C=copy.deepcopy(M)\n",
        "  #print(\"Cifrado de iteracion: \", it, \"Dando resultado:\",C)\n",
        "print(\"mensaje Descifrado:\",M)"
      ],
      "metadata": {
        "colab": {
          "base_uri": "https://localhost:8080/"
        },
        "id": "8r800na89R7-",
        "outputId": "6b28ef21-6c67-4208-ed60-4afb77dcee97"
      },
      "execution_count": null,
      "outputs": [
        {
          "output_type": "stream",
          "name": "stdout",
          "text": [
            "Mensaje Cifrado: [996156352679900960, 11728750728847474366]\n",
            "mensaje Descifrado: [0, 1]\n"
          ]
        }
      ]
    }
  ]
}
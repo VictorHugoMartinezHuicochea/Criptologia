{
  "nbformat": 4,
  "nbformat_minor": 0,
  "metadata": {
    "colab": {
      "provenance": []
    },
    "kernelspec": {
      "name": "python3",
      "display_name": "Python 3"
    },
    "language_info": {
      "name": "python"
    }
  },
  "cells": [
    {
      "cell_type": "markdown",
      "source": [
        "#Algoritmo Feistel\n",
        "\n",
        "---\n",
        "\n",
        "Escuela Superior de Fisico y Matematicas\n",
        "\n",
        "Licenciatura En Matematica Algoritmica\n",
        "\n",
        "**Criptología**\n",
        "\n",
        "Profesor: Gamaliel Yafte Tellez Sanchez\n",
        "\n",
        "Alumno: Victor Hugo Martinez Huicochea\n"
      ],
      "metadata": {
        "id": "c6pLuqGfzw5c"
      }
    },
    {
      "cell_type": "markdown",
      "source": [
        "  ##Clave, cifrado y descifrado"
      ],
      "metadata": {
        "id": "hmpcjJZ4OeXC"
      }
    },
    {
      "cell_type": "code",
      "source": [
        "F=\"taco\" #CLAVE"
      ],
      "metadata": {
        "id": "8F2hO9uGdJMS"
      },
      "execution_count": null,
      "outputs": []
    },
    {
      "cell_type": "code",
      "source": [
        "def cifrado(mi,j):\n",
        "  desp=0\n",
        "  for i in range(8):\n",
        "    desp+=2**i\n",
        "  L=mi>>8\n",
        "  R=(((mi&desp)^ord(F[j]))^L)<<8\n",
        "  return(R^L)"
      ],
      "metadata": {
        "id": "ppwPnbNwQ7ne"
      },
      "execution_count": null,
      "outputs": []
    },
    {
      "cell_type": "code",
      "source": [
        "def descifrado(mi,j):\n",
        "  desp=0\n",
        "  for i in range(8):\n",
        "    desp+=2**i\n",
        "  R=mi&desp\n",
        "  L=mi>>8\n",
        "  L=(L^R)^ord(F[3-j])\n",
        "  R=R<<8\n",
        "  return(R^L)"
      ],
      "metadata": {
        "id": "NI7zlh-pdvo5"
      },
      "execution_count": null,
      "outputs": []
    },
    {
      "cell_type": "markdown",
      "source": [
        "#Encriptado"
      ],
      "metadata": {
        "id": "7U_DCIhpOgUd"
      }
    },
    {
      "cell_type": "code",
      "source": [
        "#m=21433478455675000000\n",
        "#m=2434343424322\n",
        "#m=16\n",
        "#m=29952\n",
        "#m=0\n",
        "#m=1\n",
        "#m=65535 #1111111111111111\n",
        "#m=65536 #10000000000000000\n",
        "\n",
        "bin=[]\n",
        "res=m\n",
        "\n",
        "#convertimos a binario\n",
        "while(res!=0):\n",
        "  bin.append(res%2)\n",
        "  res=int(res/2)\n",
        "bin=bin[::-1]\n",
        "\n",
        "#aseguramos que tenga tamaño 16k con k<=5\n",
        "while(len(bin)!=80):\n",
        "  bin.insert(0,0)\n",
        "\n",
        "\n",
        "#Saltamos los paquetes que tengan puros 0\n",
        "t=0\n",
        "cerosall=True\n",
        "for i in range(1,81):\n",
        "  #A partir de este momento, todos los paquetes de menos de\n",
        "  if(bin[i-1]!=0):\n",
        "    cerosall=False\n",
        "  if(i%16==0 and cerosall==False):\n",
        "    t+=1\n",
        "\n",
        "#Desplazamiento\n",
        "desp=0\n",
        "for i in range(16):\n",
        "  desp+=2**i\n",
        "\n",
        "#Encriptado\n",
        "C=0\n",
        "for i in range(t):\n",
        "  mi=(m&(desp<<16*i))>>(16*i)\n",
        "  for j in range(4):\n",
        "    mi=cifrado(mi,j)\n",
        "\n",
        "\n",
        "  C=C^(mi<<16*i)\n",
        "\n",
        "print(\"Texto Crifrado:\",C)"
      ],
      "metadata": {
        "colab": {
          "base_uri": "https://localhost:8080/"
        },
        "id": "f-QsRUm1OuPl",
        "outputId": "d5f62075-61fb-4f26-8977-8752fb41c8f3"
      },
      "execution_count": null,
      "outputs": [
        {
          "output_type": "stream",
          "name": "stdout",
          "text": [
            "Texto Crifrado: 2030204930\n"
          ]
        }
      ]
    },
    {
      "cell_type": "markdown",
      "source": [
        "#Desencriptado"
      ],
      "metadata": {
        "id": "8oQN1P_4PhuJ"
      }
    },
    {
      "cell_type": "code",
      "source": [
        "#C=571445700085854216760342\n",
        "bin=[]\n",
        "res=C\n",
        "\n",
        "#convertimos a binario\n",
        "while(res!=0):\n",
        "  bin.append(res%2)\n",
        "  res=int(res/2)\n",
        "bin=bin[::-1]\n",
        "\n",
        "#aseguramos que tenga tamaño 16k\n",
        "while(len(bin)!=80):\n",
        "  bin.insert(0,0)\n",
        "\n",
        "\n",
        "#Saltamos los paquetes que tengan puros 0\n",
        "t=0\n",
        "cerosall=True\n",
        "for i in range(1,81):\n",
        "  #A partir de este momento, todos los paquetes de menos de\n",
        "  if(bin[i-1]!=0):\n",
        "    cerosall=False\n",
        "  if(i%16==0 and cerosall==False):\n",
        "    t+=1\n",
        "\n",
        "#Desplazamiento\n",
        "desp=0\n",
        "for i in range(16):\n",
        "  desp+=2**i\n",
        "\n",
        "#Desencriptado\n",
        "M=0\n",
        "for i in range(t):\n",
        "  ci=(C&(desp<<16*i))>>(16*i)\n",
        "  for j in range(4):\n",
        "    ci=descifrado(ci,j)\n",
        "  M=M^(ci<<16*i)\n",
        "\n",
        "print(\"Texto Descifrado:\",M)\n",
        "\n",
        "print(\"\\n\\n Es m=M:   \",M==m)"
      ],
      "metadata": {
        "colab": {
          "base_uri": "https://localhost:8080/"
        },
        "id": "-tAEPfN_uUFc",
        "outputId": "b8e95a6a-791e-45a9-ba8a-6b7f60a41d0f"
      },
      "execution_count": null,
      "outputs": [
        {
          "output_type": "stream",
          "name": "stdout",
          "text": [
            "Texto Descifrado: 65536\n",
            "\n",
            "\n",
            " Es m=M:    True\n"
          ]
        }
      ]
    }
  ]
}
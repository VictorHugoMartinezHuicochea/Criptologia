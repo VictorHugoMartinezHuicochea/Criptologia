{
  "nbformat": 4,
  "nbformat_minor": 0,
  "metadata": {
    "colab": {
      "provenance": []
    },
    "kernelspec": {
      "name": "python3",
      "display_name": "Python 3"
    },
    "language_info": {
      "name": "python"
    }
  },
  "cells": [
    {
      "cell_type": "markdown",
      "source": [
        "#Algoritmo DES\n",
        "\n",
        "---\n",
        "\n",
        "Escuela Superior de Fisico y Matematicas\n",
        "\n",
        "Licenciatura En Matematica Algoritmica\n",
        "\n",
        "**Criptología**\n",
        "\n",
        "Profesor: Gamaliel Yafte Tellez Sanchez\n",
        "\n",
        "Alumno: Victor Hugo Martinez Huicochea"
      ],
      "metadata": {
        "id": "4CcLSRiwAKyl"
      }
    },
    {
      "cell_type": "markdown",
      "source": [
        "#Llave y S-Boxes"
      ],
      "metadata": {
        "id": "RkfEF30LAPg-"
      }
    },
    {
      "cell_type": "code",
      "source": [
        "#K=65535\n",
        "K=23245\n",
        "#K=17\n",
        "#K=0\n",
        "#K=1"
      ],
      "metadata": {
        "id": "GA5_6gWGAYKk"
      },
      "execution_count": null,
      "outputs": []
    },
    {
      "cell_type": "code",
      "source": [
        "#S-Boxes\n",
        "S1=[[14, 4, 13, 1, 2, 15, 11, 8, 3, 10, 6, 12, 5, 9, 0, 7],\n",
        "    [0, 15, 7, 4, 14, 2, 13, 1, 10, 6, 12, 11, 9, 5, 3, 8],\n",
        "    [4, 1, 14, 8, 13, 6, 2, 11, 15, 12, 9, 7, 3, 10, 5, 0],\n",
        "    [15, 12, 8, 2, 4, 9, 1, 7, 5, 11, 3, 14, 10, 0, 6, 13]]\n",
        "S2=[[15, 1, 8, 14, 6, 11, 3, 4, 9, 7, 2, 13, 12, 0, 5, 10],\n",
        "    [3, 13, 4, 7, 15, 2, 8, 14, 12, 0, 1, 10, 6, 9, 11, 5],\n",
        "    [0, 14, 7, 11, 10, 4, 13, 1, 5, 8, 12, 6, 9, 3, 2, 15],\n",
        "    [13, 8, 10, 1, 3, 15, 4, 2, 11, 6, 7, 12, 0, 5, 14, 9]]"
      ],
      "metadata": {
        "id": "zPZGAKHYM6n3"
      },
      "execution_count": null,
      "outputs": []
    },
    {
      "cell_type": "markdown",
      "source": [
        "#Permutacion, Generador de Llaves y Reduccion"
      ],
      "metadata": {
        "id": "kJHMSP-XAam1"
      }
    },
    {
      "cell_type": "code",
      "source": [
        "def perm(Ext):\n",
        "  L=Ext>>4\n",
        "  R=Ext&15\n",
        "\n",
        "  return (R<<8)^L\n",
        "\n",
        "\n",
        "\n",
        "def llave(It):\n",
        "  R=K&255\n",
        "  L=K>>8\n",
        "  for i in range(It+1):\n",
        "    R=((R&63)<<2)^(R>>6)\n",
        "    L=((L&63)<<2)^(L>>6)\n",
        "\n",
        "  R=L<<8^R\n",
        "  #Reduccion\n",
        "  ki=0\n",
        "  for i in range(4):\n",
        "    ki=ki^((R&(7<<(i*4)))>>i)\n",
        "  return ki\n",
        "\n",
        "def S(Ext):\n",
        "  R=Ext&63\n",
        "  L=Ext>>6\n",
        "  LV=((L&32)>>4)^(L&1)\n",
        "  RV=((R&32)>>4)^(R&1)\n",
        "  LH=(L&30)>>1\n",
        "  RH=(R&30)>>1\n",
        "  return (S2[LV][LH]<<4)^S1[RV][RH]\n",
        "\n"
      ],
      "metadata": {
        "id": "3JX32lNoA08X"
      },
      "execution_count": null,
      "outputs": []
    },
    {
      "cell_type": "markdown",
      "source": [
        "#Crifrado"
      ],
      "metadata": {
        "id": "msXToFUsAjwT"
      }
    },
    {
      "cell_type": "code",
      "source": [
        "#M=65535\n",
        "M=41384\n",
        "#M=12\n",
        "#M=2234\n",
        "#M=1\n",
        "#M=0\n",
        "#M=34567\n",
        "for i in range(4):\n",
        "  #Partimos\n",
        "  R=M&255\n",
        "  L=M>>8\n",
        "  #Extendemos R\n",
        "  ##(Saca Ultimo bit anexa a primeros cinco)^(se queda con los ultimos cinco, anexa al final el primer bit)\n",
        "  R=(((1<<7&R)>>7)^((R&31)<<1))^(((R>>3)^((1&R)<<5))<<6)\n",
        "  #Permutamos y hacemos xor con llave generada de iteracion\n",
        "\n",
        "  R=perm(R)^llave(i)\n",
        "  #R=R^llave(i)\n",
        "  #Reducimos con las S-box\n",
        "  R=S(R)\n",
        "  #Xor L Deslazamos y Unimos\n",
        "  R=(R^L)<<8\n",
        "  M=R^L\n",
        "  #print(\"Encriptado de esta iteracion:\",M)\n",
        "\n",
        "print(\"Mensaje Encriptado, el nuevo mensaje es:\",M)"
      ],
      "metadata": {
        "colab": {
          "base_uri": "https://localhost:8080/"
        },
        "id": "8epFh26k5cAG",
        "outputId": "e8cdf571-c718-4ecc-801e-0a43101538e9"
      },
      "execution_count": null,
      "outputs": [
        {
          "output_type": "stream",
          "name": "stdout",
          "text": [
            "Mensaje Encriptado, el nuevo mensaje es: 31874\n"
          ]
        }
      ]
    }
  ]
}
{
  "nbformat": 4,
  "nbformat_minor": 0,
  "metadata": {
    "colab": {
      "provenance": [],
      "collapsed_sections": [
        "SupPb7is_Ax_"
      ]
    },
    "kernelspec": {
      "name": "python3",
      "display_name": "Python 3"
    },
    "language_info": {
      "name": "python"
    }
  },
  "cells": [
    {
      "cell_type": "markdown",
      "source": [
        "#Algoritmo Diffie-Helman\n",
        "---\n",
        "\n",
        "Escuela Superior de Fisico y Matematicas\n",
        "\n",
        "Licenciatura En Matematica Algoritmica\n",
        "\n",
        "**Criptología**\n",
        "\n",
        "Profesor: Gamaliel Yafte Tellez Sanchez\n",
        "\n",
        "Alumno: Victor Hugo Martinez Huicochea"
      ],
      "metadata": {
        "id": "VRVrUOcKzUVs"
      }
    },
    {
      "cell_type": "markdown",
      "source": [
        "# Importamos librerias"
      ],
      "metadata": {
        "id": "GPO0nuuw-6ZO"
      }
    },
    {
      "cell_type": "code",
      "execution_count": null,
      "metadata": {
        "id": "S0TUahag1cYk"
      },
      "outputs": [],
      "source": [
        "import random"
      ]
    },
    {
      "cell_type": "markdown",
      "source": [
        "# Funciones Auxiliares"
      ],
      "metadata": {
        "id": "ncnvr2Li-7pl"
      }
    },
    {
      "cell_type": "code",
      "source": [
        "def Euc(a,b):\n",
        "  C1=[1,0]\n",
        "  C2=[0,1]\n",
        "\n",
        "  r=1\n",
        "  ast=[]\n",
        "  i=0\n",
        "  while(r!=0):\n",
        "    c=int(a/b)\n",
        "    r=a%b\n",
        "    ast.append(c)\n",
        "\n",
        "    #Tabulamos\n",
        "    C1.append(C1[i]-(C1[i+1]*ast[i]))\n",
        "    C2.append(C2[i]-(C2[i+1]*ast[i]))\n",
        "    i+=1\n",
        "    a=b\n",
        "    b=r\n",
        "\n",
        "  return a,C1[len(C1)-2]"
      ],
      "metadata": {
        "id": "rqrqPh1x4XzH"
      },
      "execution_count": null,
      "outputs": []
    },
    {
      "cell_type": "markdown",
      "source": [
        "## Funcion Encargada de la comunicacion"
      ],
      "metadata": {
        "id": "SupPb7is_Ax_"
      }
    },
    {
      "cell_type": "code",
      "source": [
        "def A(Pubkey,P):\n",
        "  Privkey=random.randint(2,P-2)\n",
        "  print(\"Hola soy Alice y acorde con Bob que usaremos el siguiente Primo\",P,\"Cuya llave publica es\",Pubkey,\"De la cual sacare mi llave privada, la cual es\",Privkey)\n",
        "  KA=(Pubkey**Privkey)%P\n",
        "  print(\"Asi le mandare a Bob lo siguiente:\",KA)\n",
        "\n",
        "  c,KB=B(Pubkey,P,KA)\n",
        "\n",
        "  KM=(KB**Privkey)%P\n",
        "  _,inv=Euc(KM,P)\n",
        "  if inv<0:\n",
        "    inv+=P\n",
        "  print(\"\\n\\n\\nRecibi el siguiente elemento de Bob:\",KB,\"por lo que usare para encriptar mis mensajes con\",KM,\"cuyo inverso es:\",inv,\"Puesto que da\",KM*inv%P)\n",
        "  print(\"El mensaje encriptado que me dio Bob es el siguiente:\",c)\n",
        "  m=\"\"\n",
        "  for i in range(len(c)):\n",
        "    aux=(ord(c[i])-97)*inv%P\n",
        "    if aux==27:\n",
        "      m+=chr(aux+5)\n",
        "    else:\n",
        "      m+=chr(aux+97)\n",
        "  print(\"El mensaje desencriptado es: //\",m,\"//\")\n",
        "\n",
        "\n",
        "def B(Pubkey,P,KA):\n",
        "  Privkey=random.randint(2,P-2)\n",
        "  print(\"\\nHola soy Bob y acorde con Alice que usaremos el siguiente Primo\",P,\"Cuya llave publica es\",Pubkey,\"De la cual sacare mi llave privada, la cual es\",Privkey)\n",
        "  KB=(Pubkey**Privkey)%P\n",
        "  print(\"Asi le mandare a Alice lo siguiente:\",KB)\n",
        "\n",
        "  KM=(KA**Privkey)%P\n",
        "  m=\"el desembarco se hara el dia seis de junio en la bahia de normandia francia\"\n",
        "  print(\"\\n\\nRecibi de Alice el siguiente elemento\",KA,\"Del cual ahora se que encriptare mi mensaje con:\",KM)\n",
        "  print(\"Le mandare el siguiente mensaje a Alice: //\",m,\"//\")\n",
        "  c=\"\"\n",
        "  for i in range(len(m)):\n",
        "    if ord(m[i])==32:\n",
        "      c+=chr(((27*KM)%P)+97)\n",
        "    else:\n",
        "      c+=chr((((ord(m[i])-97)*KM)%P)+97)\n",
        "  print(\"El mensaje encriptado es: //\",c,\"//\")\n",
        "  return c,KB\n",
        "\n",
        "\n"
      ],
      "metadata": {
        "id": "n4URrUxC1h9V"
      },
      "execution_count": null,
      "outputs": []
    },
    {
      "cell_type": "markdown",
      "source": [
        "#Ejecutable"
      ],
      "metadata": {
        "id": "3PgiEuwj_C81"
      }
    },
    {
      "cell_type": "code",
      "source": [
        "P=29\n",
        "Pubkey=random.randint(2,P-2)\n",
        "A(Pubkey,29)"
      ],
      "metadata": {
        "colab": {
          "base_uri": "https://localhost:8080/"
        },
        "id": "4Pf8F6zj5DjY",
        "outputId": "fc897e9a-be66-4255-be27-3826285882bc"
      },
      "execution_count": null,
      "outputs": [
        {
          "output_type": "stream",
          "name": "stdout",
          "text": [
            "Hola soy Alice y acorde con Bob que usaremos el siguiente Primo 29 Cuya llave publica es 27 De la cual sacare mi llave privada, la cual es 13\n",
            "Asi le mandare a Bob lo siguiente: 15\n",
            "\n",
            "Hola soy Bob y acorde con Alice que usaremos el siguiente Primo 29 Cuya llave publica es 27 De la cual sacare mi llave privada, la cual es 5\n",
            "Asi le mandare a Alice lo siguiente: 26\n",
            "\n",
            "\n",
            "Recibi de Alice el siguiente elemento 15 Del cual ahora se que encriptare mi mensaje con: 10\n",
            "Le mandare el siguiente mensaje a Alice: // el desembarco se hara el dia seis de junio en la bahia de normandia francia //\n",
            "El mensaje encriptado es: // lxjblglekazuyjgljmazajlxjbwajglwgjbljd{owyjlojxajkamwajbljoyzeaobwajvzaouwa //\n",
            "\n",
            "\n",
            "\n",
            "Recibi el siguiente elemento de Bob: 26 por lo que usare para encriptar mis mensajes con 10 cuyo inverso es: 3 Puesto que da 1\n",
            "El mensaje encriptado que me dio Bob es el siguiente: lxjblglekazuyjgljmazajlxjbwajglwgjbljd{owyjlojxajkamwajbljoyzeaobwajvzaouwa\n",
            "El mensaje desencriptado es: // el desembarco se hara el dia seis de junio en la bahia de normandia francia //\n"
          ]
        }
      ]
    }
  ]
}
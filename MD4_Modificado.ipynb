{
  "nbformat": 4,
  "nbformat_minor": 0,
  "metadata": {
    "colab": {
      "provenance": []
    },
    "kernelspec": {
      "name": "python3",
      "display_name": "Python 3"
    },
    "language_info": {
      "name": "python"
    }
  },
  "cells": [
    {
      "cell_type": "markdown",
      "source": [
        "#Algoritmo MD4\n",
        "---\n",
        "\n",
        "Escuela Superior de Fisico y Matematicas\n",
        "\n",
        "Licenciatura En Matematica Algoritmica\n",
        "\n",
        "**Criptología**\n",
        "\n",
        "Profesor: Gamaliel Yafte Tellez Sanchez\n",
        "\n",
        "Alumno: Victor Hugo Martinez Huicochea"
      ],
      "metadata": {
        "id": "ctRVFl-ybb_O"
      }
    },
    {
      "cell_type": "code",
      "source": [
        "import numpy as np"
      ],
      "metadata": {
        "id": "Yn0kcZXFcBQm"
      },
      "execution_count": 1,
      "outputs": []
    },
    {
      "cell_type": "markdown",
      "source": [
        "# Funciones Auxiliares"
      ],
      "metadata": {
        "id": "d-Tl-jL6crV3"
      }
    },
    {
      "cell_type": "code",
      "source": [
        "def Perm(N,S):\n",
        "  S=S%16\n",
        "  S=16-S\n",
        "  mov=(2**S)-1\n",
        "  aux=N&mov\n",
        "  N=N>>S\n",
        "  N=N^(aux<<16-S)\n",
        "  return N\n",
        "\n",
        "def f(X,Y,Z):\n",
        "  return (X&Y)|((~X)&Z)\n",
        "def g(X,Y,Z):\n",
        "  return (X&Y)|(X&Z)|(Y&Z)\n",
        "def h(X,Y,Z):\n",
        "  return X^Y^Z\n",
        "\n",
        "\n",
        "def rondaF(A,B,C,D,K,S):\n",
        "  A=Perm(A^f(B,C,D)^K,S)\n",
        "  return A\n",
        "def rondaG(A,B,C,D,K,S):\n",
        "  E=47073\n",
        "  A=Perm(A^g(B,C,D)^K^E,S)\n",
        "  return A\n",
        "def rondaH(A,B,D,C,K,S):\n",
        "  PHI=40503\n",
        "  A=Perm(A^h(B,C,D)^K^PHI,S)\n",
        "  return A\n",
        "\n",
        "\n",
        "\n"
      ],
      "metadata": {
        "id": "6yFPMJZY8FXM"
      },
      "execution_count": 5,
      "outputs": []
    },
    {
      "cell_type": "markdown",
      "source": [
        "# Algoritmo MD4"
      ],
      "metadata": {
        "id": "gEedKhwpcBEO"
      }
    },
    {
      "cell_type": "code",
      "source": [
        "#m=2561242412424352536474732849028349238409\n",
        "#m=2561242412424352536474732849028349\n",
        "#m=2596148429267413814265248164610047\n",
        "#m=3\n",
        "#m=255\n",
        "#m=65535\n",
        "#m=65536\n",
        "m=12080232\n",
        "\n",
        "grad=1\n",
        "aux=1\n",
        "\n",
        "#Obtenemos la cantidad de bits que contiene m, tiene que ser congruente con 112 mod 128 ya contando el 1\n",
        "while(m>=aux):\n",
        "  aux=aux<<1\n",
        "  #El grado en este caso va a ir 1 adelantado, ej grado de 3 [1,1] sera 3, lo cual nos ayudara puesto que al final hay que poner un 1\n",
        "  grad+=1\n",
        "\n",
        "#Obtenemos los l6 bits finales\n",
        "agregado=m>>(grad-17)\n",
        "#Se le agrega el 1 al final\n",
        "while(grad%128!=112):\n",
        "  grad+=1\n",
        "m=m^(1<<grad-1)\n",
        "#Agregamos los 16 bits finales\n",
        "m=m^(agregado<<grad)\n",
        "\n",
        "#Establecemos a A B C D\n",
        "A=973\n",
        "B=44247\n",
        "C=30318\n",
        "D=55774\n",
        "\n",
        "#Divido en T Bloquecitos\n",
        "for i in range(int((grad+16)/64)):\n",
        "  bloquecito=m&18446744073709551615\n",
        "  m=m>>64\n",
        "  byte=[]\n",
        "  for i in range(4):\n",
        "    byte.append(bloquecito&65535)\n",
        "    bloquecito=bloquecito>>16\n",
        "\n",
        "\n",
        "\n",
        "  AA=A\n",
        "  BB=B\n",
        "  CC=C\n",
        "  DD=D\n",
        "\n",
        "  #Ronda F\n",
        "  A=rondaF(A,B,C,D,byte[0],3)\n",
        "  D=rondaF(D,A,B,C,byte[1],7)\n",
        "  C=rondaF(C,D,A,B,byte[2],11)\n",
        "  B=rondaF(B,C,D,A,byte[3],19)\n",
        "\n",
        "  #Ronda G\n",
        "  A=rondaG(A,B,C,D,byte[0],3)\n",
        "  D=rondaG(D,A,B,C,byte[3],5)\n",
        "  C=rondaG(C,D,A,B,byte[1],9)\n",
        "  B=rondaG(B,C,D,A,byte[2],13)\n",
        "\n",
        "  #Ronda H\n",
        "  A=rondaH(A,B,C,D,byte[0],3)\n",
        "  D=rondaH(D,A,B,C,byte[1],9)\n",
        "  C=rondaH(C,D,A,B,byte[3],11)\n",
        "  B=rondaH(B,C,D,A,byte[2],15)\n",
        "\n",
        "  A=A^AA\n",
        "  B=B^BB\n",
        "  C=C^CC\n",
        "  D=D^DD\n",
        "\n",
        "#Concatenamos\n",
        "Hash=(A<<48)^(B<<32)^(C<<16)^D\n",
        "Has=chr(A>>8)+chr(A&255)+chr(B>>8)+chr(B&255)+chr(C>>8)+chr(C&255)+chr(D>>8)+chr(D&255)\n",
        "print(\"Numero Hash:\",Hash,\"Caracterizado:\",Has)\n",
        "\n"
      ],
      "metadata": {
        "colab": {
          "base_uri": "https://localhost:8080/"
        },
        "id": "rBm6llkA7W1w",
        "outputId": "6a484f25-826a-4e65-ab8c-af7c8926c2a0"
      },
      "execution_count": 8,
      "outputs": [
        {
          "output_type": "stream",
          "name": "stdout",
          "text": [
            "Numero Hash: 6638235933365626526 Caracterizado: \\\u001fÀi\u0017}æ\n"
          ]
        }
      ]
    },
    {
      "cell_type": "markdown",
      "source": [
        "# Obtencion del binario de Phi y de Euler"
      ],
      "metadata": {
        "id": "FL6kD_ZXdrTK"
      }
    },
    {
      "cell_type": "code",
      "source": [
        "#Obtencion de E y Phi\n",
        "number=[]\n",
        "euler=np.e-2\n",
        "phi=((1+np.sqrt(5))/2-1)\n",
        "print(\"valor inicial de Euler\",euler)\n",
        "#Mientras no sean 16 bits\n",
        "while(len(number)!=16):\n",
        "  euler=euler*2\n",
        "  print(euler)\n",
        "  if(euler>=1):\n",
        "    number.append(1)\n",
        "    euler=euler-1\n",
        "  else:\n",
        "    number.append(0)\n",
        "print(\"Binario de Euler:\",number)\n",
        "number=[]\n",
        "print(\"valor inicial de Phi\",phi)\n",
        "while(len(number)!=16):\n",
        "  phi=phi*2\n",
        "  print(phi)\n",
        "  if(phi>=1):\n",
        "    number.append(1)\n",
        "    phi=phi-1\n",
        "  else:\n",
        "    number.append(0)\n",
        "print(\"Binario de Phi:\",number)"
      ],
      "metadata": {
        "colab": {
          "base_uri": "https://localhost:8080/"
        },
        "id": "PRf8lKk4Rhyy",
        "outputId": "ebe5ea88-d589-44c5-923f-35d3234c6672"
      },
      "execution_count": 4,
      "outputs": [
        {
          "output_type": "stream",
          "name": "stdout",
          "text": [
            "valor inicial de Euler 0.7182818284590451\n",
            "1.4365636569180902\n",
            "0.8731273138361804\n",
            "1.7462546276723607\n",
            "1.4925092553447215\n",
            "0.9850185106894429\n",
            "1.9700370213788858\n",
            "1.9400740427577716\n",
            "1.8801480855155432\n",
            "1.7602961710310865\n",
            "1.520592342062173\n",
            "1.041184684124346\n",
            "0.0823693682486919\n",
            "0.1647387364973838\n",
            "0.3294774729947676\n",
            "0.6589549459895352\n",
            "1.3179098919790704\n",
            "Binario de Euler: [1, 0, 1, 1, 0, 1, 1, 1, 1, 1, 1, 0, 0, 0, 0, 1]\n",
            "valor inicial de Phi 0.6180339887498949\n",
            "1.2360679774997898\n",
            "0.4721359549995796\n",
            "0.9442719099991592\n",
            "1.8885438199983184\n",
            "1.7770876399966369\n",
            "1.5541752799932738\n",
            "1.1083505599865475\n",
            "0.21670111997309505\n",
            "0.4334022399461901\n",
            "0.8668044798923802\n",
            "1.7336089597847604\n",
            "1.4672179195695207\n",
            "0.9344358391390415\n",
            "1.868871678278083\n",
            "1.737743356556166\n",
            "1.475486713112332\n",
            "Binario de Phi: [1, 0, 0, 1, 1, 1, 1, 0, 0, 0, 1, 1, 0, 1, 1, 1]\n"
          ]
        }
      ]
    }
  ]
}
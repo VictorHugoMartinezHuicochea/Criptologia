{
  "nbformat": 4,
  "nbformat_minor": 0,
  "metadata": {
    "colab": {
      "provenance": []
    },
    "kernelspec": {
      "name": "python3",
      "display_name": "Python 3"
    },
    "language_info": {
      "name": "python"
    }
  },
  "cells": [
    {
      "cell_type": "markdown",
      "source": [
        "#Algoritmo RSA\n",
        "---\n",
        "\n",
        "Escuela Superior de Fisico y Matematicas\n",
        "\n",
        "Licenciatura En Matematica Algoritmica\n",
        "\n",
        "**Criptología**\n",
        "\n",
        "Profesor: Gamaliel Yafte Tellez Sanchez\n",
        "\n",
        "Alumno: Victor Hugo Martinez Huicochea"
      ],
      "metadata": {
        "id": "krQn0p0RCJT0"
      }
    },
    {
      "cell_type": "markdown",
      "source": [
        "# Importamos librerias"
      ],
      "metadata": {
        "id": "_1olKPgNSARB"
      }
    },
    {
      "cell_type": "code",
      "source": [
        "import random"
      ],
      "metadata": {
        "id": "dZWHpAvQwZoa"
      },
      "execution_count": null,
      "outputs": []
    },
    {
      "cell_type": "markdown",
      "source": [
        "# Funciones Auxiliares"
      ],
      "metadata": {
        "id": "PEUYDIglRXDK"
      }
    },
    {
      "cell_type": "markdown",
      "source": [
        "## Funcion Encargada de la comunicacion"
      ],
      "metadata": {
        "id": "gvCPt0YXRZyX"
      }
    },
    {
      "cell_type": "code",
      "execution_count": null,
      "metadata": {
        "id": "2D3nw58wsya4"
      },
      "outputs": [],
      "source": [
        "def A(p,q):\n",
        "  print(\"Hola soy Alice, me asignaron los numeros primos\",p,\"y\",q,\"Asi que N sera\",p*q)\n",
        "  gcd=0\n",
        "  while(gcd!=1):\n",
        "    e=random.randint(2,100)\n",
        "    gcd,inv=Euc(e,(p-1)*(q-1))\n",
        "\n",
        "  invp=inv%((p-1)*(q-1))\n",
        "  print(\"Mi e sera\",e,\"con inverso d\",inv,\"->\",invp,\"tal que mod\",(p-1)*(q-1),\"es\",e*invp%((p-1)*(q-1)))\n",
        "\n",
        "  PubKey=[p*q,e]\n",
        "  print(\"Mi llave que le mandare a Bob sera:\",PubKey,\"\\n\\n\\n\\n\")\n",
        "  c=B(PubKey,0,\"\")\n",
        "  print(\"\\n\\n\\n\\n\")\n",
        "\n",
        "\n",
        "  print(\"Bob me ha mandado este mensaje\",c,\"tengo que desencriptarlo y regresarselo\")\n",
        "  m=desencriptar(c,p*q,invp)\n",
        "  print(\"El mensaje desencriptado es: //\",m,\"// se lo mandare a Bob para que confirme que soy yo \\n\\n\\n\\n\")\n",
        "  c=B(0,1,m)\n",
        "\n",
        "  return\n",
        "def B(K,estado,mm):\n",
        "  m=\"tacos con juguito de mango\"\n",
        "  if(estado==0):\n",
        "    print(\"Hola soy Bob, Alice me dio la siguiente llave publica para encriptar el mensaje\",K)\n",
        "    print(\"El mensaje que le mandare a Alice de manera encriptada es: //\",m,\"//\")\n",
        "    c=encriptar(m,K[0],K[1])\n",
        "    print(\"El mensaje encriptado es: //\",c,\"//\")\n",
        "    print(\"Ahora le mandare el mensaje encriptado a Alice, para verificar que es ella\")\n",
        "    return c\n",
        "\n",
        "\n",
        "  else:\n",
        "    print(\"Mensaje recibido, Alice dice que el mensaje es //\",mm,\"// lo cual es: \",mm==m)\n",
        "    if(mm==m):\n",
        "      print(\"El canal es seguro por lo que seguire en comunicacion\")\n",
        "    else:\n",
        "      print(\"El Canal NO ES SEGURO; ERROR\")\n",
        "      k=0/0\n",
        "  return"
      ]
    },
    {
      "cell_type": "markdown",
      "source": [
        "## Funciones de Encriptado"
      ],
      "metadata": {
        "id": "pToID-c1RepF"
      }
    },
    {
      "cell_type": "code",
      "source": [
        "def encriptar(m,N,e):\n",
        "  c=\"\"\n",
        "  for i in m:\n",
        "    c+=chr((ord(i))**e%N)\n",
        "  return c\n",
        "\n",
        "def desencriptar(c,N,d):\n",
        "  m=\"\"\n",
        "  for i in c:\n",
        "    m+=chr((ord(i))**d%N)\n",
        "  return m"
      ],
      "metadata": {
        "id": "cI4r_LKTDuv4"
      },
      "execution_count": null,
      "outputs": []
    },
    {
      "cell_type": "markdown",
      "source": [
        "## Algortimo de Euclides"
      ],
      "metadata": {
        "id": "kj9BRomoRgwD"
      }
    },
    {
      "cell_type": "code",
      "source": [
        "def Euc(a,b):\n",
        "  C1=[1,0]\n",
        "  C2=[0,1]\n",
        "\n",
        "  r=1\n",
        "  ast=[]\n",
        "  i=0\n",
        "  while(r!=0):\n",
        "    c=int(a/b)\n",
        "    r=a%b\n",
        "    ast.append(c)\n",
        "\n",
        "    #Tabulamos\n",
        "    C1.append(C1[i]-(C1[i+1]*ast[i]))\n",
        "    C2.append(C2[i]-(C2[i+1]*ast[i]))\n",
        "    i+=1\n",
        "    a=b\n",
        "    b=r\n",
        "\n",
        "  return a,C1[len(C1)-2]"
      ],
      "metadata": {
        "id": "PhAz-eWs6MdY"
      },
      "execution_count": null,
      "outputs": []
    },
    {
      "cell_type": "markdown",
      "source": [
        "#Ejecutable"
      ],
      "metadata": {
        "id": "Yfygk-axRqtb"
      }
    },
    {
      "cell_type": "code",
      "source": [
        "#A recibe 2 primos a,b\n",
        "A(47,997)"
      ],
      "metadata": {
        "colab": {
          "base_uri": "https://localhost:8080/"
        },
        "id": "DZu8bhjNJELj",
        "outputId": "1347c047-f3a2-4502-af2c-f5ae9e303d01"
      },
      "execution_count": null,
      "outputs": [
        {
          "output_type": "stream",
          "name": "stdout",
          "text": [
            "Hola soy Alice, me asignaron los numeros primos 47 y 997 Asi que N sera 46859\n",
            "Mi e sera 19 con inverso d 19291 -> 19291 tal que mod 45816 es 1\n",
            "Mi llave que le mandare a Bob sera: [46859, 19] \n",
            "\n",
            "\n",
            "\n",
            "\n",
            "Hola soy Bob, Alice me dio la siguiente llave publica para encriptar el mensaje [46859, 19]\n",
            "El mensaje que le mandare a Alice de manera encriptada es: // tacos con juguito de mango //\n",
            "El mensaje encriptado es: // ꂟ幁ᓉ⫟櫶騑ᓉ⫟璈騑㔤ꠜ⇃ꠜ饺ꂟ⫟騑妟郧騑錇幁璈⇃⫟ //\n",
            "Ahora le mandare el mensaje encriptado a Alice, para verificar que es ella\n",
            "\n",
            "\n",
            "\n",
            "\n",
            "\n",
            "Bob me ha mandado este mensaje ꂟ幁ᓉ⫟櫶騑ᓉ⫟璈騑㔤ꠜ⇃ꠜ饺ꂟ⫟騑妟郧騑錇幁璈⇃⫟ tengo que desencriptarlo y regresarselo\n",
            "El mensaje desencriptado es: // tacos con juguito de mango // se lo mandare a Bob para que confirme que soy yo \n",
            "\n",
            "\n",
            "\n",
            "\n",
            "Mensaje recibido, Alice dice que el mensaje es // tacos con juguito de mango // lo cual es:  True\n",
            "El canal es seguro por lo que seguire en comunicacion\n"
          ]
        }
      ]
    }
  ]
}